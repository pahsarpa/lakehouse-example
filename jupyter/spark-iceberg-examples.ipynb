{
 "cells": [
  {
   "cell_type": "markdown",
   "id": "909e9537-e4cc-4899-990b-7e74afb5a9f0",
   "metadata": {
    "jp-MarkdownHeadingCollapsed": true
   },
   "source": [
    "### Проверить текущую конфигурацию Spark (spark-defaults.conf)"
   ]
  },
  {
   "cell_type": "code",
   "execution_count": null,
   "id": "d6f3e4c4-11ae-4684-9149-71c141685790",
   "metadata": {},
   "outputs": [],
   "source": [
    "#===========================================================================\n",
    "# Default spark conf in file:\n",
    "# cat /usr/local/spark/conf/spark-defaults.conf\n",
    "#===========================================================================\n",
    "!cat /opt/spark/conf/spark-defaults.conf"
   ]
  },
  {
   "cell_type": "markdown",
   "id": "41bf7f80-fecb-455e-aef1-1ca290c7e321",
   "metadata": {},
   "source": [
    "### Создать локальную Spark сессию \n",
    "\n",
    "* Spark сессию можно не создавать явно. При выполнении любой ячейки с магической функцией *%%sql* сессия создается автоматически"
   ]
  },
  {
   "cell_type": "code",
   "execution_count": 10,
   "id": "0bc89c2d-da2f-4343-bfe7-8bb70377d420",
   "metadata": {},
   "outputs": [
    {
     "name": "stderr",
     "output_type": "stream",
     "text": [
      "25/10/02 13:00:54 WARN SparkSession: Using an existing Spark session; only runtime SQL configurations will take effect.\n"
     ]
    }
   ],
   "source": [
    "from pyspark.sql.session import SparkSession\n",
    "spark = SparkSession.builder \\\n",
    "    .master(\"local\") \\\n",
    "    .appName(\"Jupyter\") \\\n",
    ".getOrCreate()"
   ]
  },
  {
   "cell_type": "markdown",
   "id": "a41d65dc-e7ae-40a6-9441-ad4d1b59ba0a",
   "metadata": {},
   "source": [
    "##### Остановить Spark сессию (если необходимо)"
   ]
  },
  {
   "cell_type": "code",
   "execution_count": null,
   "id": "ba92d90a-e1dc-4b52-b586-ea4dc28420da",
   "metadata": {},
   "outputs": [],
   "source": [
    "spark.stop()"
   ]
  },
  {
   "cell_type": "markdown",
   "id": "3474a147-f4ee-4e03-a7fe-ebbcc41501d8",
   "metadata": {},
   "source": [
    "##### Мета информация о доступных каталогах\n",
    "для того чтобы listCatalogs вырнул информацмю о всех подключенных каталогах, необходимо сначала внутри сессии оратиться к одному объекту каждого каталога"
   ]
  },
  {
   "cell_type": "markdown",
   "id": "61fa1204-b1d5-40b9-9b71-54ebf13b0421",
   "metadata": {},
   "source": [
    "### Работа с каталогом Iceberg"
   ]
  },
  {
   "cell_type": "markdown",
   "id": "e6aaf4d1-025b-4ddd-bbcf-16eead7834e4",
   "metadata": {},
   "source": [
    "##### Посмотреть список схем в каталоге"
   ]
  },
  {
   "cell_type": "code",
   "execution_count": null,
   "id": "9c069895-d804-464c-bac0-ca27725145a6",
   "metadata": {},
   "outputs": [],
   "source": [
    "%%sql\n",
    "show schemas"
   ]
  },
  {
   "cell_type": "markdown",
   "id": "1397cd75-8583-49c6-9d4c-d4ce49645a03",
   "metadata": {},
   "source": [
    "##### Создать схему"
   ]
  },
  {
   "cell_type": "code",
   "execution_count": 2,
   "id": "cfd9ae36-2d5e-444e-95f4-fc8437926094",
   "metadata": {},
   "outputs": [
    {
     "data": {
      "text/html": [
       "<table>\n",
       "    <thead>\n",
       "        <tr>\n",
       "        </tr>\n",
       "    </thead>\n",
       "    <tbody>\n",
       "    </tbody>\n",
       "</table>"
      ],
      "text/plain": [
       "++\n",
       "||\n",
       "++\n",
       "++"
      ]
     },
     "execution_count": 2,
     "metadata": {},
     "output_type": "execute_result"
    }
   ],
   "source": [
    "%%sql\n",
    "CREATE schema if NOT EXISTS dwh"
   ]
  },
  {
   "cell_type": "markdown",
   "id": "43d8c0af-d0e0-4985-a288-b3f9be650c6e",
   "metadata": {},
   "source": [
    "##### Посмотреть список таблиц в схеме"
   ]
  },
  {
   "cell_type": "code",
   "execution_count": null,
   "id": "a509db79-67fd-40c6-86ff-2064695c56ac",
   "metadata": {},
   "outputs": [],
   "source": [
    "%%sql\n",
    "show tables from dwh"
   ]
  },
  {
   "cell_type": "markdown",
   "id": "d5b3e5c4-15c4-49aa-82bd-7960c5efaf6e",
   "metadata": {},
   "source": [
    "---\n",
    "### Cоздать таблицу"
   ]
  },
  {
   "cell_type": "code",
   "execution_count": null,
   "id": "d38b9b81-6482-4397-aa89-d8d6f9e58ed0",
   "metadata": {},
   "outputs": [],
   "source": [
    "%%sql\n",
    "drop table dwh.example_data PURGE"
   ]
  },
  {
   "cell_type": "code",
   "execution_count": 1,
   "id": "3c0f5fbf-2211-4184-b346-07b77d58e972",
   "metadata": {},
   "outputs": [
    {
     "name": "stderr",
     "output_type": "stream",
     "text": [
      "Setting default log level to \"WARN\".\n",
      "To adjust logging level use sc.setLogLevel(newLevel). For SparkR, use setLogLevel(newLevel).\n",
      "25/10/02 12:50:38 WARN NativeCodeLoader: Unable to load native-hadoop library for your platform... using builtin-java classes where applicable\n",
      "25/10/02 12:50:40 WARN MetricsConfig: Cannot locate configuration: tried hadoop-metrics2-s3a-file-system.properties,hadoop-metrics2.properties\n",
      "25/10/02 12:50:42 WARN S3ABlockOutputStream: Application invoked the Syncable API against stream writing to spark-history/local-1759409439695.inprogress. This is unsupported\n"
     ]
    },
    {
     "data": {
      "text/html": [
       "<table>\n",
       "    <thead>\n",
       "        <tr>\n",
       "        </tr>\n",
       "    </thead>\n",
       "    <tbody>\n",
       "    </tbody>\n",
       "</table>"
      ],
      "text/plain": [
       "++\n",
       "||\n",
       "++\n",
       "++"
      ]
     },
     "execution_count": 1,
     "metadata": {},
     "output_type": "execute_result"
    }
   ],
   "source": [
    "%%sql\n",
    "CREATE TABLE IF NOT EXISTS dwh.example_data (\n",
    "    id int,\n",
    "    name string,\n",
    "    phoneNumber string,\n",
    "    email string,\n",
    "    address string,\n",
    "    userAgent string,\n",
    "    hexcolor string\n",
    "  ) \n",
    "USING iceberg\n",
    "TBLPROPERTIES ('write.spark.accept-any-schema'='true')"
   ]
  },
  {
   "cell_type": "markdown",
   "id": "f8b79c78-f25d-489f-8622-b15bdd761342",
   "metadata": {},
   "source": [
    "##### Создаем view для данных в csv файле"
   ]
  },
  {
   "cell_type": "code",
   "execution_count": 3,
   "id": "d20f74e9-de7f-4ea7-8b00-5a70c0b429e7",
   "metadata": {},
   "outputs": [
    {
     "name": "stderr",
     "output_type": "stream",
     "text": [
      "                                                                                \r"
     ]
    },
    {
     "data": {
      "text/html": [
       "<table>\n",
       "    <thead>\n",
       "        <tr>\n",
       "        </tr>\n",
       "    </thead>\n",
       "    <tbody>\n",
       "    </tbody>\n",
       "</table>"
      ],
      "text/plain": [
       "++\n",
       "||\n",
       "++\n",
       "++"
      ]
     },
     "execution_count": 3,
     "metadata": {},
     "output_type": "execute_result"
    }
   ],
   "source": [
    "%%sql\n",
    "CREATE OR REPLACE TEMPORARY VIEW tmpv_example_data\n",
    "USING csv\n",
    "OPTIONS (\n",
    "    path 'example_data.csv',\n",
    "    header 'true',\n",
    "    inferSchema 'true',\n",
    "    quote '\"'\n",
    "    \n",
    ");"
   ]
  },
  {
   "cell_type": "markdown",
   "id": "c7743d70-3c41-49fb-8448-b4ecc7ca5232",
   "metadata": {},
   "source": [
    "##### Вставить данные в таблицу"
   ]
  },
  {
   "cell_type": "code",
   "execution_count": 4,
   "id": "1677c941-e202-4742-896b-6d4ce0ed2ca8",
   "metadata": {},
   "outputs": [
    {
     "name": "stderr",
     "output_type": "stream",
     "text": [
      "                                                                                \r"
     ]
    },
    {
     "data": {
      "text/html": [
       "<table>\n",
       "    <thead>\n",
       "        <tr>\n",
       "        </tr>\n",
       "    </thead>\n",
       "    <tbody>\n",
       "    </tbody>\n",
       "</table>"
      ],
      "text/plain": [
       "++\n",
       "||\n",
       "++\n",
       "++"
      ]
     },
     "execution_count": 4,
     "metadata": {},
     "output_type": "execute_result"
    }
   ],
   "source": [
    "%%sql\n",
    "INSERT INTO dwh.example_data\n",
    "SELECT *\n",
    "FROM tmpv_example_data"
   ]
  },
  {
   "cell_type": "markdown",
   "id": "ca1134a4-b6b3-49ca-92fd-d6e2612f0e85",
   "metadata": {},
   "source": [
    "##### Прочитать данные таблицы "
   ]
  },
  {
   "cell_type": "code",
   "execution_count": null,
   "id": "a2c7c10e-b960-47ea-98ea-876e69cf4d59",
   "metadata": {},
   "outputs": [],
   "source": [
    "%%sql\n",
    "SELECT * FROM dwh.example_data"
   ]
  },
  {
   "cell_type": "markdown",
   "id": "3e9f13a6-7d14-4da8-964b-976310d6a877",
   "metadata": {},
   "source": [
    "### Создать таблицу с партициями "
   ]
  },
  {
   "cell_type": "code",
   "execution_count": null,
   "id": "21d06ee4-b887-4b16-bb49-40826555d76d",
   "metadata": {},
   "outputs": [],
   "source": [
    "%%sql\n",
    "CREATE TABLE IF NOT EXISTS dwh.example_data_with_partitions (\n",
    "    id int,\n",
    "    name string,\n",
    "    phoneNumber string,\n",
    "    email string,\n",
    "    address string,\n",
    "    userAgent string,\n",
    "    hexcolor string\n",
    "  ) \n",
    "USING iceberg\n",
    "TBLPROPERTIES ('write.spark.accept-any-schema'='true')\n",
    "PARTITIONED BY (hexcolor)"
   ]
  },
  {
   "cell_type": "code",
   "execution_count": null,
   "id": "1990d9a8-cdf2-4240-939c-b2a93084165d",
   "metadata": {},
   "outputs": [],
   "source": [
    "%%sql\n",
    "INSERT INTO dwh.example_data_with_partitions\n",
    "SELECT *\n",
    "FROM tmpv_example_data"
   ]
  },
  {
   "cell_type": "markdown",
   "id": "bd7e0404-32a8-4833-b458-d77e88a0ecbf",
   "metadata": {},
   "source": [
    "---"
   ]
  },
  {
   "cell_type": "markdown",
   "id": "e32165a0-db37-4bf6-8ba6-302b6cdd1a84",
   "metadata": {},
   "source": [
    "### Посмотреть структуру файлов на s3"
   ]
  },
  {
   "cell_type": "code",
   "execution_count": null,
   "id": "c1b5bc8f-3b60-439e-a86c-038d881953e7",
   "metadata": {},
   "outputs": [],
   "source": [
    "!aws s3 ls s3://warehouse/iceberg_rest/dwh/example_data/ --recursive --endpoint-url=http://minio-s3:9080"
   ]
  },
  {
   "cell_type": "code",
   "execution_count": null,
   "id": "5edf8f16-b03e-4353-913d-9e9d4c172250",
   "metadata": {},
   "outputs": [],
   "source": [
    "!aws s3 ls s3://warehouse/iceberg_rest/dwh/example_data_with_partitions/ --recursive --endpoint-url=http://minio-s3:9080"
   ]
  },
  {
   "cell_type": "markdown",
   "id": "c54ef842-99d3-49fa-8e1c-1b7e25336d75",
   "metadata": {},
   "source": [
    "---"
   ]
  },
  {
   "cell_type": "markdown",
   "id": "94541f97-40fd-48a8-8a73-34c11bc13c0d",
   "metadata": {},
   "source": [
    "### Просмотр мето-информации о таблице\n",
    "https://iceberg.apache.org/docs/nightly/spark-queries/#inspecting-tables"
   ]
  },
  {
   "cell_type": "code",
   "execution_count": null,
   "id": "97398ddc-c9f8-48f4-abb3-4455f52ec14d",
   "metadata": {},
   "outputs": [],
   "source": [
    "%%sql\n",
    "DESCRIBE FORMATTED dwh.example_data;"
   ]
  },
  {
   "cell_type": "code",
   "execution_count": 6,
   "id": "d6437b54-83de-4c5a-a68c-05225d7332c5",
   "metadata": {},
   "outputs": [
    {
     "data": {
      "text/html": [
       "<table>\n",
       "    <thead>\n",
       "        <tr>\n",
       "            <th>committed_at</th>\n",
       "            <th>snapshot_id</th>\n",
       "            <th>parent_id</th>\n",
       "            <th>operation</th>\n",
       "            <th>manifest_list</th>\n",
       "            <th>summary</th>\n",
       "        </tr>\n",
       "    </thead>\n",
       "    <tbody>\n",
       "        <tr>\n",
       "            <td>2025-10-02 12:54:17.493000</td>\n",
       "            <td>4962268757432518498</td>\n",
       "            <td>None</td>\n",
       "            <td>append</td>\n",
       "            <td>s3://warehouse/iceberg_rest/dwh/example_data/metadata/snap-4962268757432518498-1-981e0c5f-90f6-4c77-affd-aa8ecef774b6.avro</td>\n",
       "            <td>{&#x27;engine-version&#x27;: &#x27;3.4.0&#x27;, &#x27;added-data-files&#x27;: &#x27;1&#x27;, &#x27;total-equality-deletes&#x27;: &#x27;0&#x27;, &#x27;app-id&#x27;: &#x27;local-1759409439695&#x27;, &#x27;added-records&#x27;: &#x27;4&#x27;, &#x27;total-records&#x27;: &#x27;4&#x27;, &#x27;spark.app.id&#x27;: &#x27;local-1759409439695&#x27;, &#x27;changed-partition-count&#x27;: &#x27;1&#x27;, &#x27;engine-name&#x27;: &#x27;spark&#x27;, &#x27;total-position-deletes&#x27;: &#x27;0&#x27;, &#x27;added-files-size&#x27;: &#x27;3286&#x27;, &#x27;total-delete-files&#x27;: &#x27;0&#x27;, &#x27;iceberg-version&#x27;: &#x27;Apache Iceberg 1.9.1 (commit f40208ae6fb2f33e578c2637d3dea1db18739f31)&#x27;, &#x27;total-files-size&#x27;: &#x27;3286&#x27;, &#x27;total-data-files&#x27;: &#x27;1&#x27;}</td>\n",
       "        </tr>\n",
       "        <tr>\n",
       "            <td>2025-10-02 12:55:51.099000</td>\n",
       "            <td>5795304953496581163</td>\n",
       "            <td>4962268757432518498</td>\n",
       "            <td>append</td>\n",
       "            <td>s3://warehouse/iceberg_rest/dwh/example_data/metadata/snap-5795304953496581163-1-4f192237-7477-4196-af2e-b99ee5862af9.avro</td>\n",
       "            <td>{&#x27;engine-version&#x27;: &#x27;3.4.0&#x27;, &#x27;added-data-files&#x27;: &#x27;1&#x27;, &#x27;total-equality-deletes&#x27;: &#x27;0&#x27;, &#x27;app-id&#x27;: &#x27;local-1759409439695&#x27;, &#x27;added-records&#x27;: &#x27;1&#x27;, &#x27;total-records&#x27;: &#x27;5&#x27;, &#x27;spark.app.id&#x27;: &#x27;local-1759409439695&#x27;, &#x27;changed-partition-count&#x27;: &#x27;1&#x27;, &#x27;engine-name&#x27;: &#x27;spark&#x27;, &#x27;total-position-deletes&#x27;: &#x27;0&#x27;, &#x27;added-files-size&#x27;: &#x27;650&#x27;, &#x27;total-delete-files&#x27;: &#x27;0&#x27;, &#x27;iceberg-version&#x27;: &#x27;Apache Iceberg 1.9.1 (commit f40208ae6fb2f33e578c2637d3dea1db18739f31)&#x27;, &#x27;total-files-size&#x27;: &#x27;3936&#x27;, &#x27;total-data-files&#x27;: &#x27;2&#x27;}</td>\n",
       "        </tr>\n",
       "    </tbody>\n",
       "</table>"
      ],
      "text/plain": [
       "+----------------------------+---------------------+---------------------+-----------+----------------------------------------------------------------------------------------------------------------------------+---------------------------------------------------------------------------------------------------------------------------------------------------------------------------------------------------------------------------------------------------------------------------------------------------------------------------------------------------------------------------------------------------------------------------------------------------------------------------------------------------------+\n",
       "|               committed_at |         snapshot_id |           parent_id | operation |                                                                                                              manifest_list |                                                                                                                                                                                                                                                                                                                                                                                                                                                                                                 summary |\n",
       "+----------------------------+---------------------+---------------------+-----------+----------------------------------------------------------------------------------------------------------------------------+---------------------------------------------------------------------------------------------------------------------------------------------------------------------------------------------------------------------------------------------------------------------------------------------------------------------------------------------------------------------------------------------------------------------------------------------------------------------------------------------------------+\n",
       "| 2025-10-02 12:54:17.493000 | 4962268757432518498 |                None |    append | s3://warehouse/iceberg_rest/dwh/example_data/metadata/snap-4962268757432518498-1-981e0c5f-90f6-4c77-affd-aa8ecef774b6.avro | {'engine-version': '3.4.0', 'added-data-files': '1', 'total-equality-deletes': '0', 'app-id': 'local-1759409439695', 'added-records': '4', 'total-records': '4', 'spark.app.id': 'local-1759409439695', 'changed-partition-count': '1', 'engine-name': 'spark', 'total-position-deletes': '0', 'added-files-size': '3286', 'total-delete-files': '0', 'iceberg-version': 'Apache Iceberg 1.9.1 (commit f40208ae6fb2f33e578c2637d3dea1db18739f31)', 'total-files-size': '3286', 'total-data-files': '1'} |\n",
       "| 2025-10-02 12:55:51.099000 | 5795304953496581163 | 4962268757432518498 |    append | s3://warehouse/iceberg_rest/dwh/example_data/metadata/snap-5795304953496581163-1-4f192237-7477-4196-af2e-b99ee5862af9.avro |  {'engine-version': '3.4.0', 'added-data-files': '1', 'total-equality-deletes': '0', 'app-id': 'local-1759409439695', 'added-records': '1', 'total-records': '5', 'spark.app.id': 'local-1759409439695', 'changed-partition-count': '1', 'engine-name': 'spark', 'total-position-deletes': '0', 'added-files-size': '650', 'total-delete-files': '0', 'iceberg-version': 'Apache Iceberg 1.9.1 (commit f40208ae6fb2f33e578c2637d3dea1db18739f31)', 'total-files-size': '3936', 'total-data-files': '2'} |\n",
       "+----------------------------+---------------------+---------------------+-----------+----------------------------------------------------------------------------------------------------------------------------+---------------------------------------------------------------------------------------------------------------------------------------------------------------------------------------------------------------------------------------------------------------------------------------------------------------------------------------------------------------------------------------------------------------------------------------------------------------------------------------------------------+"
      ]
     },
     "execution_count": 6,
     "metadata": {},
     "output_type": "execute_result"
    }
   ],
   "source": [
    "%%sql \n",
    "-- snapshots\n",
    "SELECT * FROM dwh.example_data.snapshots"
   ]
  },
  {
   "cell_type": "code",
   "execution_count": null,
   "id": "af826c06-bb16-435d-b312-36226dbe2f98",
   "metadata": {},
   "outputs": [],
   "source": [
    "%%sql\n",
    "-- history\n",
    "SELECT * FROM dwh.example_data.history"
   ]
  },
  {
   "cell_type": "code",
   "execution_count": 7,
   "id": "c2a6d83f-12a9-47b2-8f45-f3f5b139ffdb",
   "metadata": {},
   "outputs": [
    {
     "data": {
      "text/html": [
       "<table>\n",
       "    <thead>\n",
       "        <tr>\n",
       "            <th>content</th>\n",
       "            <th>file_path</th>\n",
       "            <th>file_format</th>\n",
       "            <th>spec_id</th>\n",
       "            <th>record_count</th>\n",
       "            <th>file_size_in_bytes</th>\n",
       "            <th>column_sizes</th>\n",
       "            <th>value_counts</th>\n",
       "            <th>null_value_counts</th>\n",
       "            <th>nan_value_counts</th>\n",
       "            <th>lower_bounds</th>\n",
       "            <th>upper_bounds</th>\n",
       "            <th>key_metadata</th>\n",
       "            <th>split_offsets</th>\n",
       "            <th>equality_ids</th>\n",
       "            <th>sort_order_id</th>\n",
       "            <th>first_row_id</th>\n",
       "            <th>referenced_data_file</th>\n",
       "            <th>content_offset</th>\n",
       "            <th>content_size_in_bytes</th>\n",
       "            <th>readable_metrics</th>\n",
       "        </tr>\n",
       "    </thead>\n",
       "    <tbody>\n",
       "        <tr>\n",
       "            <td>0</td>\n",
       "            <td>s3://warehouse/iceberg_rest/dwh/example_data/data/00000-3-4e3e8a48-12f8-405c-901a-54c66b22fc22-0-00001.parquet</td>\n",
       "            <td>PARQUET</td>\n",
       "            <td>0</td>\n",
       "            <td>1</td>\n",
       "            <td>650</td>\n",
       "            <td>{1: 39, 2: 42}</td>\n",
       "            <td>{1: 1, 2: 1}</td>\n",
       "            <td>{1: 0, 2: 0}</td>\n",
       "            <td>{}</td>\n",
       "            <td>{1: bytearray(b&#x27;c\\x00\\x00\\x00&#x27;), 2: bytearray(b&#x27;Bob&#x27;)}</td>\n",
       "            <td>{1: bytearray(b&#x27;c\\x00\\x00\\x00&#x27;), 2: bytearray(b&#x27;Bob&#x27;)}</td>\n",
       "            <td>None</td>\n",
       "            <td>[4]</td>\n",
       "            <td>None</td>\n",
       "            <td>0</td>\n",
       "            <td>None</td>\n",
       "            <td>None</td>\n",
       "            <td>None</td>\n",
       "            <td>None</td>\n",
       "            <td>Row(address=Row(column_size=None, value_count=None, null_value_count=None, nan_value_count=None, lower_bound=None, upper_bound=None), email=Row(column_size=None, value_count=None, null_value_count=None, nan_value_count=None, lower_bound=None, upper_bound=None), hexcolor=Row(column_size=None, value_count=None, null_value_count=None, nan_value_count=None, lower_bound=None, upper_bound=None), id=Row(column_size=39, value_count=1, null_value_count=0, nan_value_count=None, lower_bound=99, upper_bound=99), name=Row(column_size=42, value_count=1, null_value_count=0, nan_value_count=None, lower_bound=&#x27;Bob&#x27;, upper_bound=&#x27;Bob&#x27;), phoneNumber=Row(column_size=None, value_count=None, null_value_count=None, nan_value_count=None, lower_bound=None, upper_bound=None), userAgent=Row(column_size=None, value_count=None, null_value_count=None, nan_value_count=None, lower_bound=None, upper_bound=None))</td>\n",
       "        </tr>\n",
       "        <tr>\n",
       "            <td>0</td>\n",
       "            <td>s3://warehouse/iceberg_rest/dwh/example_data/data/00000-2-e6d299af-2b4b-4316-b99e-f56a8fdea30c-0-00001.parquet</td>\n",
       "            <td>PARQUET</td>\n",
       "            <td>0</td>\n",
       "            <td>4</td>\n",
       "            <td>3286</td>\n",
       "            <td>{1: 57, 2: 117, 3: 102, 4: 133, 5: 228, 6: 267, 7: 80}</td>\n",
       "            <td>{1: 4, 2: 4, 3: 4, 4: 4, 5: 4, 6: 4, 7: 4}</td>\n",
       "            <td>{1: 0, 2: 0, 3: 0, 4: 0, 5: 0, 6: 0, 7: 0}</td>\n",
       "            <td>{}</td>\n",
       "            <td>{1: bytearray(b&#x27;\\x01\\x00\\x00\\x00&#x27;), 2: bytearray(b&#x27;Bo Breitenberg&#x27;), 3: bytearray(b&#x27;(602) 248-6549&#x27;), 4: bytearray(b&#x27;brooklyn96@berge&#x27;), 5: bytearray(b&#x27;&quot;61975 Hammes Tu&#x27;), 6: bytearray(b&#x27;Mozilla/5.0 (Mac&#x27;), 7: bytearray(b&#x27;#2ab5bf&#x27;)}</td>\n",
       "            <td>{1: bytearray(b&#x27;\\x04\\x00\\x00\\x00&#x27;), 2: bytearray(b&#x27;Mr. Terry Halvos&#x27;), 3: bytearray(b&#x27;401-631-4492&#x27;), 4: bytearray(b&#x27;pearlie80@paucel&#x27;), 5: bytearray(b&#x27;65588 Lisandro I&#x27;), 6: bytearray(b&#x27;Mozilla/5.0 (con&#x27;), 7: bytearray(b&#x27;#b6002b&#x27;)}</td>\n",
       "            <td>None</td>\n",
       "            <td>[4]</td>\n",
       "            <td>None</td>\n",
       "            <td>0</td>\n",
       "            <td>None</td>\n",
       "            <td>None</td>\n",
       "            <td>None</td>\n",
       "            <td>None</td>\n",
       "            <td>Row(address=Row(column_size=228, value_count=4, null_value_count=0, nan_value_count=None, lower_bound=&#x27;&quot;61975 Hammes Tu&#x27;, upper_bound=&#x27;65588 Lisandro I&#x27;), email=Row(column_size=133, value_count=4, null_value_count=0, nan_value_count=None, lower_bound=&#x27;brooklyn96@berge&#x27;, upper_bound=&#x27;pearlie80@paucel&#x27;), hexcolor=Row(column_size=80, value_count=4, null_value_count=0, nan_value_count=None, lower_bound=&#x27;#2ab5bf&#x27;, upper_bound=&#x27;#b6002b&#x27;), id=Row(column_size=57, value_count=4, null_value_count=0, nan_value_count=None, lower_bound=1, upper_bound=4), name=Row(column_size=117, value_count=4, null_value_count=0, nan_value_count=None, lower_bound=&#x27;Bo Breitenberg&#x27;, upper_bound=&#x27;Mr. Terry Halvos&#x27;), phoneNumber=Row(column_size=102, value_count=4, null_value_count=0, nan_value_count=None, lower_bound=&#x27;(602) 248-6549&#x27;, upper_bound=&#x27;401-631-4492&#x27;), userAgent=Row(column_size=267, value_count=4, null_value_count=0, nan_value_count=None, lower_bound=&#x27;Mozilla/5.0 (Mac&#x27;, upper_bound=&#x27;Mozilla/5.0 (con&#x27;))</td>\n",
       "        </tr>\n",
       "    </tbody>\n",
       "</table>"
      ],
      "text/plain": [
       "+---------+----------------------------------------------------------------------------------------------------------------+-------------+---------+--------------+--------------------+--------------------------------------------------------+--------------------------------------------+--------------------------------------------+------------------+------------------------------------------------------------------------------------------------------------------------------------------------------------------------------------------------------------------------------------------+------------------------------------------------------------------------------------------------------------------------------------------------------------------------------------------------------------------------------------------+--------------+---------------+--------------+---------------+--------------+----------------------+----------------+-----------------------+-------------------------------------------------------------------------------------------------------------------------------------------------------------------------------------------------------------------------------------------------------------------------------------------------------------------------------------------------------------------------------------------------------------------------------------------------------------------------------------------------------------------------------------------------------------------------------------------------------------------------------------------------------------------------------------------------------------------------------------------------------------------------------------------------------------------------------------------------------------------------------------------------------------------------------------------------------------------------------------------------------------------------------------+\n",
       "| content |                                                                                                      file_path | file_format | spec_id | record_count | file_size_in_bytes |                                           column_sizes |                               value_counts |                          null_value_counts | nan_value_counts |                                                                                                                                                                                                                             lower_bounds |                                                                                                                                                                                                                             upper_bounds | key_metadata | split_offsets | equality_ids | sort_order_id | first_row_id | referenced_data_file | content_offset | content_size_in_bytes |                                                                                                                                                                                                                                                                                                                                                                                                                                                                                                                                                                                                                                                                                                                                                                                                                                                                                                                                                                                                                    readable_metrics |\n",
       "+---------+----------------------------------------------------------------------------------------------------------------+-------------+---------+--------------+--------------------+--------------------------------------------------------+--------------------------------------------+--------------------------------------------+------------------+------------------------------------------------------------------------------------------------------------------------------------------------------------------------------------------------------------------------------------------+------------------------------------------------------------------------------------------------------------------------------------------------------------------------------------------------------------------------------------------+--------------+---------------+--------------+---------------+--------------+----------------------+----------------+-----------------------+-------------------------------------------------------------------------------------------------------------------------------------------------------------------------------------------------------------------------------------------------------------------------------------------------------------------------------------------------------------------------------------------------------------------------------------------------------------------------------------------------------------------------------------------------------------------------------------------------------------------------------------------------------------------------------------------------------------------------------------------------------------------------------------------------------------------------------------------------------------------------------------------------------------------------------------------------------------------------------------------------------------------------------------+\n",
       "|       0 | s3://warehouse/iceberg_rest/dwh/example_data/data/00000-3-4e3e8a48-12f8-405c-901a-54c66b22fc22-0-00001.parquet |     PARQUET |       0 |            1 |                650 |                                         {1: 39, 2: 42} |                               {1: 1, 2: 1} |                               {1: 0, 2: 0} |               {} |                                                                                                                                                                                   {1: bytearray(b'c\\x00\\x00\\x00'), 2: bytearray(b'Bob')} |                                                                                                                                                                                   {1: bytearray(b'c\\x00\\x00\\x00'), 2: bytearray(b'Bob')} |         None |           [4] |         None |             0 |         None |                 None |           None |                  None |                                                                                                        Row(address=Row(column_size=None, value_count=None, null_value_count=None, nan_value_count=None, lower_bound=None, upper_bound=None), email=Row(column_size=None, value_count=None, null_value_count=None, nan_value_count=None, lower_bound=None, upper_bound=None), hexcolor=Row(column_size=None, value_count=None, null_value_count=None, nan_value_count=None, lower_bound=None, upper_bound=None), id=Row(column_size=39, value_count=1, null_value_count=0, nan_value_count=None, lower_bound=99, upper_bound=99), name=Row(column_size=42, value_count=1, null_value_count=0, nan_value_count=None, lower_bound='Bob', upper_bound='Bob'), phoneNumber=Row(column_size=None, value_count=None, null_value_count=None, nan_value_count=None, lower_bound=None, upper_bound=None), userAgent=Row(column_size=None, value_count=None, null_value_count=None, nan_value_count=None, lower_bound=None, upper_bound=None)) |\n",
       "|       0 | s3://warehouse/iceberg_rest/dwh/example_data/data/00000-2-e6d299af-2b4b-4316-b99e-f56a8fdea30c-0-00001.parquet |     PARQUET |       0 |            4 |               3286 | {1: 57, 2: 117, 3: 102, 4: 133, 5: 228, 6: 267, 7: 80} | {1: 4, 2: 4, 3: 4, 4: 4, 5: 4, 6: 4, 7: 4} | {1: 0, 2: 0, 3: 0, 4: 0, 5: 0, 6: 0, 7: 0} |               {} | {1: bytearray(b'\\x01\\x00\\x00\\x00'), 2: bytearray(b'Bo Breitenberg'), 3: bytearray(b'(602) 248-6549'), 4: bytearray(b'brooklyn96@berge'), 5: bytearray(b'\"61975 Hammes Tu'), 6: bytearray(b'Mozilla/5.0 (Mac'), 7: bytearray(b'#2ab5bf')} | {1: bytearray(b'\\x04\\x00\\x00\\x00'), 2: bytearray(b'Mr. Terry Halvos'), 3: bytearray(b'401-631-4492'), 4: bytearray(b'pearlie80@paucel'), 5: bytearray(b'65588 Lisandro I'), 6: bytearray(b'Mozilla/5.0 (con'), 7: bytearray(b'#b6002b')} |         None |           [4] |         None |             0 |         None |                 None |           None |                  None | Row(address=Row(column_size=228, value_count=4, null_value_count=0, nan_value_count=None, lower_bound='\"61975 Hammes Tu', upper_bound='65588 Lisandro I'), email=Row(column_size=133, value_count=4, null_value_count=0, nan_value_count=None, lower_bound='brooklyn96@berge', upper_bound='pearlie80@paucel'), hexcolor=Row(column_size=80, value_count=4, null_value_count=0, nan_value_count=None, lower_bound='#2ab5bf', upper_bound='#b6002b'), id=Row(column_size=57, value_count=4, null_value_count=0, nan_value_count=None, lower_bound=1, upper_bound=4), name=Row(column_size=117, value_count=4, null_value_count=0, nan_value_count=None, lower_bound='Bo Breitenberg', upper_bound='Mr. Terry Halvos'), phoneNumber=Row(column_size=102, value_count=4, null_value_count=0, nan_value_count=None, lower_bound='(602) 248-6549', upper_bound='401-631-4492'), userAgent=Row(column_size=267, value_count=4, null_value_count=0, nan_value_count=None, lower_bound='Mozilla/5.0 (Mac', upper_bound='Mozilla/5.0 (con')) |\n",
       "+---------+----------------------------------------------------------------------------------------------------------------+-------------+---------+--------------+--------------------+--------------------------------------------------------+--------------------------------------------+--------------------------------------------+------------------+------------------------------------------------------------------------------------------------------------------------------------------------------------------------------------------------------------------------------------------+------------------------------------------------------------------------------------------------------------------------------------------------------------------------------------------------------------------------------------------+--------------+---------------+--------------+---------------+--------------+----------------------+----------------+-----------------------+-------------------------------------------------------------------------------------------------------------------------------------------------------------------------------------------------------------------------------------------------------------------------------------------------------------------------------------------------------------------------------------------------------------------------------------------------------------------------------------------------------------------------------------------------------------------------------------------------------------------------------------------------------------------------------------------------------------------------------------------------------------------------------------------------------------------------------------------------------------------------------------------------------------------------------------------------------------------------------------------------------------------------------------+"
      ]
     },
     "execution_count": 7,
     "metadata": {},
     "output_type": "execute_result"
    }
   ],
   "source": [
    "%%sql \n",
    "-- files\n",
    "SELECT * FROM dwh.example_data.files"
   ]
  },
  {
   "cell_type": "code",
   "execution_count": 8,
   "id": "8eefdedd-db4c-4d60-9033-b70210a6f6c6",
   "metadata": {},
   "outputs": [
    {
     "data": {
      "text/html": [
       "<table>\n",
       "    <thead>\n",
       "        <tr>\n",
       "            <th>timestamp</th>\n",
       "            <th>file</th>\n",
       "            <th>latest_snapshot_id</th>\n",
       "            <th>latest_schema_id</th>\n",
       "            <th>latest_sequence_number</th>\n",
       "        </tr>\n",
       "    </thead>\n",
       "    <tbody>\n",
       "        <tr>\n",
       "            <td>2025-10-02 12:50:50.116000</td>\n",
       "            <td>s3://warehouse/iceberg_rest/dwh/example_data/metadata/00000-fa91050b-aa12-42a7-b1b4-f82ad9abe489.metadata.json</td>\n",
       "            <td>None</td>\n",
       "            <td>None</td>\n",
       "            <td>None</td>\n",
       "        </tr>\n",
       "        <tr>\n",
       "            <td>2025-10-02 12:54:17.493000</td>\n",
       "            <td>s3://warehouse/iceberg_rest/dwh/example_data/metadata/00001-b1622f17-6676-4b23-9a02-d777eba42338.metadata.json</td>\n",
       "            <td>4962268757432518498</td>\n",
       "            <td>0</td>\n",
       "            <td>1</td>\n",
       "        </tr>\n",
       "        <tr>\n",
       "            <td>2025-10-02 12:55:51.099000</td>\n",
       "            <td>s3://warehouse/iceberg_rest/dwh/example_data/metadata/00002-0f05fefa-9205-4722-a241-ae85eb7089fc.metadata.json</td>\n",
       "            <td>5795304953496581163</td>\n",
       "            <td>0</td>\n",
       "            <td>2</td>\n",
       "        </tr>\n",
       "    </tbody>\n",
       "</table>"
      ],
      "text/plain": [
       "+----------------------------+----------------------------------------------------------------------------------------------------------------+---------------------+------------------+------------------------+\n",
       "|                  timestamp |                                                                                                           file |  latest_snapshot_id | latest_schema_id | latest_sequence_number |\n",
       "+----------------------------+----------------------------------------------------------------------------------------------------------------+---------------------+------------------+------------------------+\n",
       "| 2025-10-02 12:50:50.116000 | s3://warehouse/iceberg_rest/dwh/example_data/metadata/00000-fa91050b-aa12-42a7-b1b4-f82ad9abe489.metadata.json |                None |             None |                   None |\n",
       "| 2025-10-02 12:54:17.493000 | s3://warehouse/iceberg_rest/dwh/example_data/metadata/00001-b1622f17-6676-4b23-9a02-d777eba42338.metadata.json | 4962268757432518498 |                0 |                      1 |\n",
       "| 2025-10-02 12:55:51.099000 | s3://warehouse/iceberg_rest/dwh/example_data/metadata/00002-0f05fefa-9205-4722-a241-ae85eb7089fc.metadata.json | 5795304953496581163 |                0 |                      2 |\n",
       "+----------------------------+----------------------------------------------------------------------------------------------------------------+---------------------+------------------+------------------------+"
      ]
     },
     "execution_count": 8,
     "metadata": {},
     "output_type": "execute_result"
    }
   ],
   "source": [
    "%%sql \n",
    "-- metadata_log_entries\n",
    "SELECT * FROM dwh.example_data.metadata_log_entries"
   ]
  },
  {
   "cell_type": "code",
   "execution_count": null,
   "id": "b25064be-a059-47f8-a811-a9dbc12dddb4",
   "metadata": {},
   "outputs": [],
   "source": [
    "%%sql \n",
    "-- entries\n",
    "SELECT * FROM dwh.example_data.entries"
   ]
  },
  {
   "cell_type": "code",
   "execution_count": null,
   "id": "18bef26f-5013-44ef-bfd5-e6460bffcbbe",
   "metadata": {},
   "outputs": [],
   "source": [
    "%%sql \n",
    "-- manifests\n",
    "SELECT * FROM dwh.example_data.manifests"
   ]
  },
  {
   "cell_type": "code",
   "execution_count": null,
   "id": "79bd4616-c84f-4788-bdc8-3a1315c879d1",
   "metadata": {},
   "outputs": [],
   "source": [
    "%%sql \n",
    "-- partitions\n",
    "SELECT * FROM dwh.example_data.partitions"
   ]
  },
  {
   "cell_type": "code",
   "execution_count": null,
   "id": "13c4ef96-1674-4381-a00d-34c4d4b51d93",
   "metadata": {},
   "outputs": [],
   "source": [
    "%%sql \n",
    "-- all_data_files\n",
    "SELECT * FROM dwh.example_data.all_data_files"
   ]
  },
  {
   "cell_type": "code",
   "execution_count": null,
   "id": "725c11b0-241a-4afc-9604-83eda4053fdc",
   "metadata": {},
   "outputs": [],
   "source": [
    "%%sql \n",
    "-- all_delete_files\n",
    "SELECT * FROM dwh.example_data.all_delete_files"
   ]
  },
  {
   "cell_type": "code",
   "execution_count": null,
   "id": "2a542a5d-90be-4b4c-a496-628d9de759ac",
   "metadata": {},
   "outputs": [],
   "source": [
    "%%sql \n",
    "-- all_entries\n",
    "SELECT * FROM dwh.example_data.all_entries"
   ]
  },
  {
   "cell_type": "markdown",
   "id": "c0201d7c-8116-44f2-8c23-2a3d1178b480",
   "metadata": {},
   "source": [
    "---"
   ]
  },
  {
   "cell_type": "markdown",
   "id": "02f7d073-33cd-47a1-89c6-5d37c23e317c",
   "metadata": {},
   "source": [
    "### Изменение данных"
   ]
  },
  {
   "cell_type": "markdown",
   "id": "c28f725a-a1fb-4039-9198-3d5b073fcf8d",
   "metadata": {},
   "source": [
    "##### Добавление строк"
   ]
  },
  {
   "cell_type": "code",
   "execution_count": 5,
   "id": "09bce043-7391-4f10-a39c-9bbef70975f1",
   "metadata": {},
   "outputs": [
    {
     "data": {
      "text/html": [
       "<table>\n",
       "    <thead>\n",
       "        <tr>\n",
       "        </tr>\n",
       "    </thead>\n",
       "    <tbody>\n",
       "    </tbody>\n",
       "</table>"
      ],
      "text/plain": [
       "++\n",
       "||\n",
       "++\n",
       "++"
      ]
     },
     "execution_count": 5,
     "metadata": {},
     "output_type": "execute_result"
    }
   ],
   "source": [
    "%%sql\n",
    "INSERT INTO dwh.example_data (id, name)\n",
    "Values (99, 'Bob')"
   ]
  },
  {
   "cell_type": "markdown",
   "id": "ef549d89-e67e-4d3b-aea8-223a91d39ead",
   "metadata": {},
   "source": [
    "##### Опеация Update"
   ]
  },
  {
   "cell_type": "code",
   "execution_count": null,
   "id": "f8cfcaf4-9e43-441f-a1a7-9217310466bc",
   "metadata": {},
   "outputs": [],
   "source": [
    "%%sql\n",
    "update dwh.example_data \n",
    "   set name = 'Jack' \n",
    "where id = 2"
   ]
  },
  {
   "cell_type": "markdown",
   "id": "d104aebf-988d-4a57-9f1a-30102be7471f",
   "metadata": {},
   "source": [
    "##### Операция Delete"
   ]
  },
  {
   "cell_type": "code",
   "execution_count": null,
   "id": "18af7c36-4c3d-4b39-acb6-678aeef87fae",
   "metadata": {},
   "outputs": [],
   "source": [
    "%%sql\n",
    "delete from dwh.example_data \n",
    "where id = 5"
   ]
  },
  {
   "cell_type": "markdown",
   "id": "70e21720-890b-49b2-bb11-395486467066",
   "metadata": {},
   "source": [
    "---"
   ]
  },
  {
   "cell_type": "markdown",
   "id": "fe0a7ab6-13e1-4f9b-9dc2-84893672799e",
   "metadata": {},
   "source": [
    "### Roll back\n",
    "https://iceberg.apache.org/docs/nightly/spark-procedures/#snapshot-management"
   ]
  },
  {
   "cell_type": "code",
   "execution_count": null,
   "id": "78306c05-ffcb-4f80-8717-44b2c667b3cc",
   "metadata": {},
   "outputs": [],
   "source": [
    "%%sql \n",
    "-- snapshots\n",
    "SELECT * FROM dwh.example_data.snapshots"
   ]
  },
  {
   "cell_type": "code",
   "execution_count": null,
   "id": "7214583b-4095-4566-ae80-91e933eb439f",
   "metadata": {},
   "outputs": [],
   "source": [
    "%%sql\n",
    "CALL system.rollback_to_snapshot('dwh.example_data', 4332729665917104153) --change snapshot_id"
   ]
  },
  {
   "cell_type": "code",
   "execution_count": null,
   "id": "e955d8b3-b8e1-4b88-947b-0ada8ae1bcf9",
   "metadata": {},
   "outputs": [],
   "source": [
    "%%sql\n",
    "select * from dwh.example_data"
   ]
  },
  {
   "cell_type": "markdown",
   "id": "d7bb995d-6ac2-45c0-b8a0-d7321d388c08",
   "metadata": {},
   "source": [
    "### Оптимизация файлов и очистка старых файлов\n",
    "https://iceberg.apache.org/docs/nightly/spark-procedures/#metadata-management"
   ]
  },
  {
   "cell_type": "markdown",
   "id": "d5e7ec83-acec-4553-8782-37bbc7268e75",
   "metadata": {},
   "source": [
    "##### Оптимизируем файлы"
   ]
  },
  {
   "cell_type": "code",
   "execution_count": null,
   "id": "7e09dbd1-e54e-4974-86a8-f4f77aba430a",
   "metadata": {},
   "outputs": [],
   "source": [
    "%%sql\n",
    "CALL system.rewrite_data_files(\n",
    "    table => 'dwh.example_data',\n",
    "    options => MAP(\n",
    "        'target-file-size-bytes', '134217728',  -- 128MB на партицию\n",
    "        'min-input-files', '1'\n",
    "    )\n",
    ")"
   ]
  },
  {
   "cell_type": "markdown",
   "id": "35e200c0-39e1-4a80-99d3-c580885a5db3",
   "metadata": {},
   "source": [
    "##### Удаляем старые snapshot'ы"
   ]
  },
  {
   "cell_type": "code",
   "execution_count": null,
   "id": "d0f6fbfa-c4dd-4f9c-88cd-1b69b5e0dac1",
   "metadata": {
    "scrolled": true
   },
   "outputs": [],
   "source": [
    "%%sql\n",
    "CALL system.expire_snapshots(\n",
    "    table => 'dwh.example_data',\n",
    "    older_than => TIMESTAMP '2025-10-03 00:00:00.000'\n",
    ")"
   ]
  },
  {
   "cell_type": "markdown",
   "id": "83b29ffc-f7dc-4c1f-8cec-6714579c6fda",
   "metadata": {},
   "source": [
    "##### Очищаем orphan файлы"
   ]
  },
  {
   "cell_type": "code",
   "execution_count": null,
   "id": "8066a996-31df-4fab-9d87-1f1b4641a135",
   "metadata": {},
   "outputs": [],
   "source": [
    "%%sql\n",
    "CALL system.remove_orphan_files(\n",
    "    table => 'dwh.example_data'\n",
    ")"
   ]
  },
  {
   "cell_type": "markdown",
   "id": "99d9af83-b0fe-440a-9bcc-7617f6b5ee3e",
   "metadata": {},
   "source": [
    "### Что хранит файл манифеста"
   ]
  },
  {
   "cell_type": "code",
   "execution_count": 11,
   "id": "d5f628ba-7f50-420c-9deb-b05d36704814",
   "metadata": {},
   "outputs": [
    {
     "name": "stdout",
     "output_type": "stream",
     "text": [
      "+---------------------------------------------------------------------------------------------------------------------------------------------------+\n",
      "|value                                                                                                                                              |\n",
      "+---------------------------------------------------------------------------------------------------------------------------------------------------+\n",
      "|{                                                                                                                                                  |\n",
      "|  \"format-version\" : 2,                                                                                                                            |\n",
      "|  \"table-uuid\" : \"9ee05807-6f1c-43f8-9298-3d1370a74b63\",                                                                                           |\n",
      "|  \"location\" : \"s3://warehouse/iceberg_rest/dwh/example_data\",                                                                                     |\n",
      "|  \"last-sequence-number\" : 1,                                                                                                                      |\n",
      "|  \"last-updated-ms\" : 1759409657493,                                                                                                               |\n",
      "|  \"last-column-id\" : 7,                                                                                                                            |\n",
      "|  \"current-schema-id\" : 0,                                                                                                                         |\n",
      "|  \"schemas\" : [ {                                                                                                                                  |\n",
      "|    \"type\" : \"struct\",                                                                                                                             |\n",
      "|    \"schema-id\" : 0,                                                                                                                               |\n",
      "|    \"fields\" : [ {                                                                                                                                 |\n",
      "|      \"id\" : 1,                                                                                                                                    |\n",
      "|      \"name\" : \"id\",                                                                                                                               |\n",
      "|      \"required\" : false,                                                                                                                          |\n",
      "|      \"type\" : \"int\"                                                                                                                               |\n",
      "|    }, {                                                                                                                                           |\n",
      "|      \"id\" : 2,                                                                                                                                    |\n",
      "|      \"name\" : \"name\",                                                                                                                             |\n",
      "|      \"required\" : false,                                                                                                                          |\n",
      "|      \"type\" : \"string\"                                                                                                                            |\n",
      "|    }, {                                                                                                                                           |\n",
      "|      \"id\" : 3,                                                                                                                                    |\n",
      "|      \"name\" : \"phoneNumber\",                                                                                                                      |\n",
      "|      \"required\" : false,                                                                                                                          |\n",
      "|      \"type\" : \"string\"                                                                                                                            |\n",
      "|    }, {                                                                                                                                           |\n",
      "|      \"id\" : 4,                                                                                                                                    |\n",
      "|      \"name\" : \"email\",                                                                                                                            |\n",
      "|      \"required\" : false,                                                                                                                          |\n",
      "|      \"type\" : \"string\"                                                                                                                            |\n",
      "|    }, {                                                                                                                                           |\n",
      "|      \"id\" : 5,                                                                                                                                    |\n",
      "|      \"name\" : \"address\",                                                                                                                          |\n",
      "|      \"required\" : false,                                                                                                                          |\n",
      "|      \"type\" : \"string\"                                                                                                                            |\n",
      "|    }, {                                                                                                                                           |\n",
      "|      \"id\" : 6,                                                                                                                                    |\n",
      "|      \"name\" : \"userAgent\",                                                                                                                        |\n",
      "|      \"required\" : false,                                                                                                                          |\n",
      "|      \"type\" : \"string\"                                                                                                                            |\n",
      "|    }, {                                                                                                                                           |\n",
      "|      \"id\" : 7,                                                                                                                                    |\n",
      "|      \"name\" : \"hexcolor\",                                                                                                                         |\n",
      "|      \"required\" : false,                                                                                                                          |\n",
      "|      \"type\" : \"string\"                                                                                                                            |\n",
      "|    } ]                                                                                                                                            |\n",
      "|  } ],                                                                                                                                             |\n",
      "|  \"default-spec-id\" : 0,                                                                                                                           |\n",
      "|  \"partition-specs\" : [ {                                                                                                                          |\n",
      "|    \"spec-id\" : 0,                                                                                                                                 |\n",
      "|    \"fields\" : [ ]                                                                                                                                 |\n",
      "|  } ],                                                                                                                                             |\n",
      "|  \"last-partition-id\" : 999,                                                                                                                       |\n",
      "|  \"default-sort-order-id\" : 0,                                                                                                                     |\n",
      "|  \"sort-orders\" : [ {                                                                                                                              |\n",
      "|    \"order-id\" : 0,                                                                                                                                |\n",
      "|    \"fields\" : [ ]                                                                                                                                 |\n",
      "|  } ],                                                                                                                                             |\n",
      "|  \"properties\" : {                                                                                                                                 |\n",
      "|    \"owner\" : \"jovyan\",                                                                                                                            |\n",
      "|    \"write.spark.accept-any-schema\" : \"true\",                                                                                                      |\n",
      "|    \"write.parquet.compression-codec\" : \"zstd\"                                                                                                     |\n",
      "|  },                                                                                                                                               |\n",
      "|  \"current-snapshot-id\" : 4962268757432518498,                                                                                                     |\n",
      "|  \"refs\" : {                                                                                                                                       |\n",
      "|    \"main\" : {                                                                                                                                     |\n",
      "|      \"snapshot-id\" : 4962268757432518498,                                                                                                         |\n",
      "|      \"type\" : \"branch\"                                                                                                                            |\n",
      "|    }                                                                                                                                              |\n",
      "|  },                                                                                                                                               |\n",
      "|  \"snapshots\" : [ {                                                                                                                                |\n",
      "|    \"sequence-number\" : 1,                                                                                                                         |\n",
      "|    \"snapshot-id\" : 4962268757432518498,                                                                                                           |\n",
      "|    \"timestamp-ms\" : 1759409657493,                                                                                                                |\n",
      "|    \"summary\" : {                                                                                                                                  |\n",
      "|      \"operation\" : \"append\",                                                                                                                      |\n",
      "|      \"spark.app.id\" : \"local-1759409439695\",                                                                                                      |\n",
      "|      \"added-data-files\" : \"1\",                                                                                                                    |\n",
      "|      \"added-records\" : \"4\",                                                                                                                       |\n",
      "|      \"added-files-size\" : \"3286\",                                                                                                                 |\n",
      "|      \"changed-partition-count\" : \"1\",                                                                                                             |\n",
      "|      \"total-records\" : \"4\",                                                                                                                       |\n",
      "|      \"total-files-size\" : \"3286\",                                                                                                                 |\n",
      "|      \"total-data-files\" : \"1\",                                                                                                                    |\n",
      "|      \"total-delete-files\" : \"0\",                                                                                                                  |\n",
      "|      \"total-position-deletes\" : \"0\",                                                                                                              |\n",
      "|      \"total-equality-deletes\" : \"0\",                                                                                                              |\n",
      "|      \"engine-version\" : \"3.4.0\",                                                                                                                  |\n",
      "|      \"app-id\" : \"local-1759409439695\",                                                                                                            |\n",
      "|      \"engine-name\" : \"spark\",                                                                                                                     |\n",
      "|      \"iceberg-version\" : \"Apache Iceberg 1.9.1 (commit f40208ae6fb2f33e578c2637d3dea1db18739f31)\"                                                 |\n",
      "|    },                                                                                                                                             |\n",
      "|    \"manifest-list\" : \"s3://warehouse/iceberg_rest/dwh/example_data/metadata/snap-4962268757432518498-1-981e0c5f-90f6-4c77-affd-aa8ecef774b6.avro\",|\n",
      "|    \"schema-id\" : 0                                                                                                                                |\n",
      "|  } ],                                                                                                                                             |\n",
      "|  \"statistics\" : [ ],                                                                                                                              |\n",
      "|  \"partition-statistics\" : [ ],                                                                                                                    |\n",
      "|  \"snapshot-log\" : [ {                                                                                                                             |\n",
      "|    \"timestamp-ms\" : 1759409657493,                                                                                                                |\n",
      "|    \"snapshot-id\" : 4962268757432518498                                                                                                            |\n",
      "|  } ],                                                                                                                                             |\n",
      "|  \"metadata-log\" : [ {                                                                                                                             |\n",
      "|    \"timestamp-ms\" : 1759409450116,                                                                                                                |\n",
      "|    \"metadata-file\" : \"s3://warehouse/iceberg_rest/dwh/example_data/metadata/00000-fa91050b-aa12-42a7-b1b4-f82ad9abe489.metadata.json\"             |\n",
      "|  } ]                                                                                                                                              |\n",
      "|}                                                                                                                                                  |\n",
      "+---------------------------------------------------------------------------------------------------------------------------------------------------+\n",
      "\n"
     ]
    }
   ],
   "source": [
    "spark.read.text('s3a://warehouse/iceberg_rest/dwh/example_data/metadata/00001-b1622f17-6676-4b23-9a02-d777eba42338.metadata.json').show(1000,truncate=False)"
   ]
  },
  {
   "cell_type": "markdown",
   "id": "5f9189d9-7c83-4c2f-a161-e82bda0454c0",
   "metadata": {},
   "source": [
    "---"
   ]
  },
  {
   "cell_type": "markdown",
   "id": "3fae7360-75a1-43bb-a217-3a29e3bab278",
   "metadata": {},
   "source": [
    "### Демонстрация изменения данных на уровне файловой системы"
   ]
  },
  {
   "cell_type": "code",
   "execution_count": 12,
   "id": "273d55fc-95ae-45d0-807d-0eb2437bac53",
   "metadata": {},
   "outputs": [
    {
     "data": {
      "text/html": [
       "<table>\n",
       "    <thead>\n",
       "        <tr>\n",
       "        </tr>\n",
       "    </thead>\n",
       "    <tbody>\n",
       "    </tbody>\n",
       "</table>"
      ],
      "text/plain": [
       "++\n",
       "||\n",
       "++\n",
       "++"
      ]
     },
     "execution_count": 12,
     "metadata": {},
     "output_type": "execute_result"
    }
   ],
   "source": [
    "%%sql\n",
    "drop table if exists dwh.example_table purge"
   ]
  },
  {
   "cell_type": "code",
   "execution_count": 13,
   "id": "66e6f132-8f29-4d12-9df8-f6a0dba15909",
   "metadata": {},
   "outputs": [
    {
     "data": {
      "text/html": [
       "<table>\n",
       "    <thead>\n",
       "        <tr>\n",
       "        </tr>\n",
       "    </thead>\n",
       "    <tbody>\n",
       "    </tbody>\n",
       "</table>"
      ],
      "text/plain": [
       "++\n",
       "||\n",
       "++\n",
       "++"
      ]
     },
     "execution_count": 13,
     "metadata": {},
     "output_type": "execute_result"
    }
   ],
   "source": [
    "%%sql\n",
    "create table dwh.example_table(\n",
    " id int,\n",
    " name string\n",
    "    \n",
    ") "
   ]
  },
  {
   "cell_type": "code",
   "execution_count": 20,
   "id": "452d685f-70f3-428c-82ca-cb7581bd3196",
   "metadata": {},
   "outputs": [
    {
     "name": "stdout",
     "output_type": "stream",
     "text": [
      "2025-10-02 13:02:16        669 iceberg_rest/dwh/example_table/data/00000-11-04584a3c-17a7-4193-b81e-b3a4c99b69fc-0-00001.parquet\n",
      "2025-10-02 13:02:40        707 iceberg_rest/dwh/example_table/data/00000-14-636edef9-3c23-4f49-9e7d-11ecd916932c-0-00001.parquet\n",
      "2025-10-02 13:02:55        664 iceberg_rest/dwh/example_table/data/00000-16-65cd65b4-ff42-4c13-904e-01ac12ea6767-0-00001.parquet\n",
      "2025-10-02 13:01:56       1031 iceberg_rest/dwh/example_table/metadata/00000-01fcbeb9-2ca1-460e-951f-847626d3504d.metadata.json\n",
      "2025-10-02 13:02:16       2321 iceberg_rest/dwh/example_table/metadata/00001-4f936a02-00d5-490e-bf12-9153a6a72510.metadata.json\n",
      "2025-10-02 13:02:40       3659 iceberg_rest/dwh/example_table/metadata/00002-89b66c92-6106-43be-b06e-d3b6d6cf3cb7.metadata.json\n",
      "2025-10-02 13:02:55       4889 iceberg_rest/dwh/example_table/metadata/00003-cfbd2c97-8a31-4121-bccb-7d5e882b5dbf.metadata.json\n",
      "2025-10-02 13:02:55       7035 iceberg_rest/dwh/example_table/metadata/26f6399a-ae04-4824-8207-d94b183a3cf5-m0.avro\n",
      "2025-10-02 13:02:16       7041 iceberg_rest/dwh/example_table/metadata/e049b9bb-46c5-4e20-93da-ef68b13075c5-m0.avro\n",
      "2025-10-02 13:02:40       7041 iceberg_rest/dwh/example_table/metadata/e828dba2-1702-4864-a349-bc2e4ca0b352-m0.avro\n",
      "2025-10-02 13:02:40       7042 iceberg_rest/dwh/example_table/metadata/e828dba2-1702-4864-a349-bc2e4ca0b352-m1.avro\n",
      "2025-10-02 13:02:40       4488 iceberg_rest/dwh/example_table/metadata/snap-4219681107139303830-1-e828dba2-1702-4864-a349-bc2e4ca0b352.avro\n",
      "2025-10-02 13:02:16       4458 iceberg_rest/dwh/example_table/metadata/snap-8481769725188275575-1-e049b9bb-46c5-4e20-93da-ef68b13075c5.avro\n",
      "2025-10-02 13:02:55       4529 iceberg_rest/dwh/example_table/metadata/snap-931200547380971318-1-26f6399a-ae04-4824-8207-d94b183a3cf5.avro\n"
     ]
    }
   ],
   "source": [
    "!aws s3 ls s3://warehouse/iceberg_rest/dwh/example_table/ --recursive --endpoint-url=http://minio-s3:9080"
   ]
  },
  {
   "cell_type": "code",
   "execution_count": 15,
   "id": "66fe9902-8bf4-4049-9e9a-cd7048a6a26e",
   "metadata": {},
   "outputs": [
    {
     "data": {
      "text/html": [
       "<table>\n",
       "    <thead>\n",
       "        <tr>\n",
       "        </tr>\n",
       "    </thead>\n",
       "    <tbody>\n",
       "    </tbody>\n",
       "</table>"
      ],
      "text/plain": [
       "++\n",
       "||\n",
       "++\n",
       "++"
      ]
     },
     "execution_count": 15,
     "metadata": {},
     "output_type": "execute_result"
    }
   ],
   "source": [
    "%%sql\n",
    "insert into dwh.example_table \n",
    "select /*+ REPARTITION(1) */  * \n",
    "  from values \n",
    "    (1, 'row 1'), \n",
    "    (2, 'row 2'),\n",
    "    (3, 'row 3') "
   ]
  },
  {
   "cell_type": "code",
   "execution_count": 19,
   "id": "168d4c46-95f0-4ad9-ba65-97b9a939f2db",
   "metadata": {},
   "outputs": [
    {
     "data": {
      "text/html": [
       "<table>\n",
       "    <thead>\n",
       "        <tr>\n",
       "        </tr>\n",
       "    </thead>\n",
       "    <tbody>\n",
       "    </tbody>\n",
       "</table>"
      ],
      "text/plain": [
       "++\n",
       "||\n",
       "++\n",
       "++"
      ]
     },
     "execution_count": 19,
     "metadata": {},
     "output_type": "execute_result"
    }
   ],
   "source": [
    "%%sql\n",
    "insert into dwh.example_table \n",
    "select /*+ REPARTITION(1) */  * \n",
    "  from values \n",
    "    (4, 'row 4') "
   ]
  },
  {
   "cell_type": "code",
   "execution_count": 17,
   "id": "9fee6e3d-48ba-4bcc-8371-15560a881106",
   "metadata": {},
   "outputs": [
    {
     "name": "stderr",
     "output_type": "stream",
     "text": [
      "                                                                                \r"
     ]
    },
    {
     "data": {
      "text/html": [
       "<table>\n",
       "    <thead>\n",
       "        <tr>\n",
       "        </tr>\n",
       "    </thead>\n",
       "    <tbody>\n",
       "    </tbody>\n",
       "</table>"
      ],
      "text/plain": [
       "++\n",
       "||\n",
       "++\n",
       "++"
      ]
     },
     "execution_count": 17,
     "metadata": {},
     "output_type": "execute_result"
    }
   ],
   "source": [
    "%%sql\n",
    "update dwh.example_table \n",
    "  set name = 'row 2 after update'\n",
    "where id = 2"
   ]
  },
  {
   "cell_type": "code",
   "execution_count": null,
   "id": "2f0133d2-395b-4324-b20f-b5c2424e8511",
   "metadata": {},
   "outputs": [],
   "source": [
    "%%sql\n",
    "select * from dwh.example_table "
   ]
  },
  {
   "cell_type": "code",
   "execution_count": 21,
   "id": "ccd434d9-8b76-432d-ba5a-8d2600e0f328",
   "metadata": {},
   "outputs": [
    {
     "name": "stderr",
     "output_type": "stream",
     "text": [
      "                                                                                \r"
     ]
    },
    {
     "data": {
      "text/html": [
       "<table>\n",
       "    <thead>\n",
       "        <tr>\n",
       "            <th>id</th>\n",
       "            <th>name</th>\n",
       "        </tr>\n",
       "    </thead>\n",
       "    <tbody>\n",
       "        <tr>\n",
       "            <td>1</td>\n",
       "            <td>row 1</td>\n",
       "        </tr>\n",
       "        <tr>\n",
       "            <td>2</td>\n",
       "            <td>row 2</td>\n",
       "        </tr>\n",
       "        <tr>\n",
       "            <td>3</td>\n",
       "            <td>row 3</td>\n",
       "        </tr>\n",
       "    </tbody>\n",
       "</table>"
      ],
      "text/plain": [
       "+----+-------+\n",
       "| id |  name |\n",
       "+----+-------+\n",
       "|  1 | row 1 |\n",
       "|  2 | row 2 |\n",
       "|  3 | row 3 |\n",
       "+----+-------+"
      ]
     },
     "execution_count": 21,
     "metadata": {},
     "output_type": "execute_result"
    }
   ],
   "source": [
    "%%sql\n",
    "select * from parquet.`s3a://warehouse/iceberg_rest/dwh/example_table/data/00000-11-04584a3c-17a7-4193-b81e-b3a4c99b69fc-0-00001.parquet` "
   ]
  },
  {
   "cell_type": "code",
   "execution_count": null,
   "id": "934af743-522c-4597-8fc1-bbbeba7916a1",
   "metadata": {},
   "outputs": [],
   "source": [
    "%%sql\n",
    "select * from parquet.`s3a://warehouse/iceberg_rest/dwh/example_table/data/00000-2997-1f91a811-2ec4-49c9-8176-12852a14f830-0-00001.parquet` "
   ]
  },
  {
   "cell_type": "code",
   "execution_count": null,
   "id": "eec0b7ef-57d1-44a1-929c-bde61aa642d8",
   "metadata": {},
   "outputs": [],
   "source": [
    "%%sql\n",
    "select * from parquet.`s3a://warehouse/iceberg_rest/dwh/example_table/data/00000-3000-a990db74-939f-4770-8b05-cc479d68134b-0-00001.parquet` "
   ]
  },
  {
   "cell_type": "code",
   "execution_count": null,
   "id": "433267e0-0322-465d-b504-79d1d4c75e83",
   "metadata": {},
   "outputs": [],
   "source": [
    "%%sql\n",
    "delete from dwh.example_table \n",
    "where id = 3"
   ]
  },
  {
   "cell_type": "code",
   "execution_count": null,
   "id": "2d5bbcc6-295c-4850-8a36-8b87e02754ba",
   "metadata": {},
   "outputs": [],
   "source": [
    "%%sql\n",
    "select * from parquet.`s3a://warehouse/iceberg_rest/dwh/example_table/data/00000-3009-76d45368-4004-4e2a-98b8-cac3340b6b3f-0-00001.parquet`"
   ]
  },
  {
   "cell_type": "code",
   "execution_count": null,
   "id": "73259aeb-2f74-480b-9bc3-9d071c3f9914",
   "metadata": {},
   "outputs": [],
   "source": []
  }
 ],
 "metadata": {
  "kernelspec": {
   "display_name": "Python 3 (ipykernel)",
   "language": "python",
   "name": "python3"
  },
  "language_info": {
   "codemirror_mode": {
    "name": "ipython",
    "version": 3
   },
   "file_extension": ".py",
   "mimetype": "text/x-python",
   "name": "python",
   "nbconvert_exporter": "python",
   "pygments_lexer": "ipython3",
   "version": "3.10.11"
  }
 },
 "nbformat": 4,
 "nbformat_minor": 5
}
